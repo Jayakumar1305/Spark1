{
  "nbformat": 4,
  "nbformat_minor": 0,
  "metadata": {
    "colab": {
      "provenance": [],
      "authorship_tag": "ABX9TyO2s1mNIanR45f5QGw7go3F",
      "include_colab_link": true
    },
    "kernelspec": {
      "name": "python3",
      "display_name": "Python 3"
    },
    "language_info": {
      "name": "python"
    }
  },
  "cells": [
    {
      "cell_type": "markdown",
      "metadata": {
        "id": "view-in-github",
        "colab_type": "text"
      },
      "source": [
        "<a href=\"https://colab.research.google.com/github/Jayakumar1305/Spark1/blob/main/SparkSQL.ipynb\" target=\"_parent\"><img src=\"https://colab.research.google.com/assets/colab-badge.svg\" alt=\"Open In Colab\"/></a>"
      ]
    },
    {
      "cell_type": "markdown",
      "source": [
        "SparkSQL\n"
      ],
      "metadata": {
        "id": "vlyUulBINfm-"
      }
    },
    {
      "cell_type": "code",
      "source": [
        "from pyspark.sql.types import StructType, StructField, StringType, IntegerType, ArrayType, MapType\n",
        "\n",
        "\n",
        "schema = StructType([\n",
        "    StructField(\"id\", IntegerType(), True),\n",
        "    StructField(\"first_name\", StringType(), True),\n",
        "    StructField(\"last_name\", StringType(), True),\n",
        "    StructField(\"email\", StringType(), True),\n",
        "    StructField(\"department\", StringType(), True),\n",
        "    StructField(\"salary\", IntegerType(), True),\n",
        "    StructField(\"bonus\", IntegerType(), True),\n",
        "    StructField(\"skills\", StringType(), True),\n",
        "    StructField(\"roles\", ArrayType(StringType()), True),\n",
        "    StructField(\"properties\", MapType(StringType(), StringType()), True),\n",
        "    StructField(\"joining_date\", StringType(), True)\n",
        "])\n",
        "\n",
        "# Creating a DataFrame with the schema\n",
        "from pyspark.sql import SparkSession\n",
        "\n",
        "spark = SparkSession.builder.appName(\"SparkSchemaExample\").getOrCreate()\n",
        "\n",
        "data = [\n",
        "    (1, \"Alice\", \"Smith\", \"alice@gmail.com\", \"IT\", 6000, 1000, \"Python,Java\", [\"Manager\", \"Developer\"], {\"key1\": \"value1\", \"key2\": \"value2\"}, \"2021-06-15\"),\n",
        "    (2, \"Bob\", \"Brown\", \"bob@gmail.com\", \"HR\", 5000, None, \"Recruitment,HR\", [\"HR\", \"Manager\"], {\"key3\": \"value3\"}, \"2022-07-20\"),\n",
        "    (3, \"Charlie\", \"Davis\", \"charlie@gmail.com\", \"IT\", 7000, 1200, \"Python,Scala\", [\"Developer\"], {\"key4\": \"value4\"}, \"2019-03-10\"),\n",
        "    (4, \"David\", \"Wilson\", \"david@gmail.com\", \"Finance\", 4500, 800, \"Accounting,Excel\", [\"Analyst\"], {}, \"2020-11-25\"),\n",
        "    (5, \"Emma\", \"Johnson\", \"emma@gmail.com\", \"IT\", 5500, None, \"Python,SQL\", [\"Developer\"], {\"key5\": \"value5\", \"key6\": \"value6\"}, \"2023-01-05\")\n",
        "]\n",
        "\n",
        "df = spark.createDataFrame(data, schema)\n"
      ],
      "metadata": {
        "id": "4viMqPVJNhGJ"
      },
      "execution_count": 5,
      "outputs": []
    },
    {
      "cell_type": "code",
      "source": [
        "df.show()"
      ],
      "metadata": {
        "colab": {
          "base_uri": "https://localhost:8080/"
        },
        "id": "-x5a5vxwORJs",
        "outputId": "499d356f-74cf-4a7a-aaa0-76968cf9887f"
      },
      "execution_count": 6,
      "outputs": [
        {
          "output_type": "stream",
          "name": "stdout",
          "text": [
            "+---+----------+---------+-----------------+----------+------+-----+----------------+--------------------+--------------------+------------+\n",
            "| id|first_name|last_name|            email|department|salary|bonus|          skills|               roles|          properties|joining_date|\n",
            "+---+----------+---------+-----------------+----------+------+-----+----------------+--------------------+--------------------+------------+\n",
            "|  1|     Alice|    Smith|  alice@gmail.com|        IT|  6000| 1000|     Python,Java|[Manager, Developer]|{key1 -> value1, ...|  2021-06-15|\n",
            "|  2|       Bob|    Brown|    bob@gmail.com|        HR|  5000| NULL|  Recruitment,HR|       [HR, Manager]|    {key3 -> value3}|  2022-07-20|\n",
            "|  3|   Charlie|    Davis|charlie@gmail.com|        IT|  7000| 1200|    Python,Scala|         [Developer]|    {key4 -> value4}|  2019-03-10|\n",
            "|  4|     David|   Wilson|  david@gmail.com|   Finance|  4500|  800|Accounting,Excel|           [Analyst]|                  {}|  2020-11-25|\n",
            "|  5|      Emma|  Johnson|   emma@gmail.com|        IT|  5500| NULL|      Python,SQL|         [Developer]|{key5 -> value5, ...|  2023-01-05|\n",
            "+---+----------+---------+-----------------+----------+------+-----+----------------+--------------------+--------------------+------------+\n",
            "\n"
          ]
        }
      ]
    },
    {
      "cell_type": "markdown",
      "source": [
        "Creta a SQL table to temporary view"
      ],
      "metadata": {
        "id": "dWSis9yKQF3W"
      }
    },
    {
      "cell_type": "code",
      "source": [
        "df.createOrReplaceTempView(\"employees\")"
      ],
      "metadata": {
        "id": "WF6egmiOPd_e"
      },
      "execution_count": 8,
      "outputs": []
    },
    {
      "cell_type": "code",
      "source": [
        "spark.sql(\"select * from employees\").show()"
      ],
      "metadata": {
        "colab": {
          "base_uri": "https://localhost:8080/"
        },
        "id": "RZ3WBMq5QgVQ",
        "outputId": "0b2737c5-53d8-4f92-f8c8-f29256a1e5f2"
      },
      "execution_count": 10,
      "outputs": [
        {
          "output_type": "stream",
          "name": "stdout",
          "text": [
            "+---+----------+---------+-----------------+----------+------+-----+----------------+--------------------+--------------------+------------+\n",
            "| id|first_name|last_name|            email|department|salary|bonus|          skills|               roles|          properties|joining_date|\n",
            "+---+----------+---------+-----------------+----------+------+-----+----------------+--------------------+--------------------+------------+\n",
            "|  1|     Alice|    Smith|  alice@gmail.com|        IT|  6000| 1000|     Python,Java|[Manager, Developer]|{key1 -> value1, ...|  2021-06-15|\n",
            "|  2|       Bob|    Brown|    bob@gmail.com|        HR|  5000| NULL|  Recruitment,HR|       [HR, Manager]|    {key3 -> value3}|  2022-07-20|\n",
            "|  3|   Charlie|    Davis|charlie@gmail.com|        IT|  7000| 1200|    Python,Scala|         [Developer]|    {key4 -> value4}|  2019-03-10|\n",
            "|  4|     David|   Wilson|  david@gmail.com|   Finance|  4500|  800|Accounting,Excel|           [Analyst]|                  {}|  2020-11-25|\n",
            "|  5|      Emma|  Johnson|   emma@gmail.com|        IT|  5500| NULL|      Python,SQL|         [Developer]|{key5 -> value5, ...|  2023-01-05|\n",
            "+---+----------+---------+-----------------+----------+------+-----+----------------+--------------------+--------------------+------------+\n",
            "\n"
          ]
        }
      ]
    },
    {
      "cell_type": "code",
      "source": [],
      "metadata": {
        "id": "w6ZtS7WOQpBp"
      },
      "execution_count": null,
      "outputs": []
    }
  ]
}